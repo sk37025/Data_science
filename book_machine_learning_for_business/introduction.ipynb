{
 "cells": [
  {
   "cell_type": "code",
   "execution_count": 1,
   "metadata": {},
   "outputs": [
    {
     "name": "stdout",
     "output_type": "stream",
     "text": [
      "1.72.1\n"
     ]
    }
   ],
   "source": [
    "# version check \n",
    "import sagemaker\n",
    "print(sagemaker.__version__)"
   ]
  }
 ],
 "metadata": {
  "interpreter": {
   "hash": "494cc9be0744a07c4d3de18c8c0bdbf02eff5ef5d5bf981f2cfc0fe1a8ae03cd"
  },
  "kernelspec": {
   "display_name": "Python 3.9.7 64-bit ('venv': venv)",
   "name": "python3"
  },
  "language_info": {
   "codemirror_mode": {
    "name": "ipython",
    "version": 3
   },
   "file_extension": ".py",
   "mimetype": "text/x-python",
   "name": "python",
   "nbconvert_exporter": "python",
   "pygments_lexer": "ipython3",
   "version": "3.9.7"
  },
  "orig_nbformat": 4
 },
 "nbformat": 4,
 "nbformat_minor": 2
}
